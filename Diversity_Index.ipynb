{
  "nbformat": 4,
  "nbformat_minor": 0,
  "metadata": {
    "colab": {
      "provenance": [],
      "include_colab_link": true
    },
    "kernelspec": {
      "name": "python3",
      "display_name": "Python 3"
    },
    "language_info": {
      "name": "python"
    }
  },
  "cells": [
    {
      "cell_type": "markdown",
      "metadata": {
        "id": "view-in-github",
        "colab_type": "text"
      },
      "source": [
        "<a href=\"https://colab.research.google.com/github/mariemtouihri/GRAM-Metric/blob/main/Diversity_Index.ipynb\" target=\"_parent\"><img src=\"https://colab.research.google.com/assets/colab-badge.svg\" alt=\"Open In Colab\"/></a>"
      ]
    },
    {
      "cell_type": "markdown",
      "source": [
        "# 1 - Import libraries and data"
      ],
      "metadata": {
        "id": "h6TSpYJDjiif"
      }
    },
    {
      "cell_type": "code",
      "source": [
        "import numpy as np\n",
        "import networkx as nx\n",
        "from scipy.stats import spearmanr, kendalltau\n",
        "import matplotlib.pyplot as plt\n",
        "import math"
      ],
      "metadata": {
        "id": "BS1aXzRKnkEa"
      },
      "execution_count": null,
      "outputs": []
    },
    {
      "cell_type": "code",
      "source": [
        "from google.colab import drive\n",
        "drive.mount('/content/drive')\n"
      ],
      "metadata": {
        "id": "A2JzNbyKrB1X"
      },
      "execution_count": null,
      "outputs": []
    },
    {
      "cell_type": "code",
      "source": [
        "\"\"\"\n",
        "  Load all matrices from my drive in a dictionary\n",
        "\n",
        "\"\"\"\n",
        "\n",
        "# Read the adjacency matrix\n",
        "loaded_data_dict = {}\n",
        "noises = [i for i in range(11)]\n",
        "j=1 # To select G1 and so on\n",
        "for noise in noises:\n",
        "  noise *=10\n",
        "  file_path = f'/content/drive/MyDrive/Colab_Notebooks/matrices_noise_G{j}_{noise}%.npy'\n",
        "  loaded_data = np.load(file_path)\n",
        "  loaded_data_dict[noise] = loaded_data\n",
        "\n",
        "print(f\"Matrices G{j} are loaded successfully!\")"
      ],
      "metadata": {
        "id": "U4OppnluhXs4"
      },
      "execution_count": null,
      "outputs": []
    },
    {
      "cell_type": "code",
      "source": [
        "len(loaded_data_dict[0])"
      ],
      "metadata": {
        "id": "QiH5WKkvIsPN"
      },
      "execution_count": null,
      "outputs": []
    },
    {
      "cell_type": "markdown",
      "source": [
        "### Define needed functions"
      ],
      "metadata": {
        "id": "D3i1bhHT2Juf"
      }
    },
    {
      "cell_type": "code",
      "source": [
        "def shannon_diversity_index(graph):\n",
        "    diversity_index = 0.0\n",
        "\n",
        "    for node in graph.nodes():\n",
        "        # Get the outgoing edge weights of the node\n",
        "        outgoing_weights = [data['weight'] for _, _, data in graph.out_edges(node, data=True)]\n",
        "\n",
        "        # Calculate the relative proportion of each outgoing edge weight\n",
        "        total_weight = sum(outgoing_weights)\n",
        "        proportions = [weight / total_weight for weight in outgoing_weights]\n",
        "\n",
        "        # Calculate the Shannon Diversity Index for the node\n",
        "        node_diversity = -sum(p * math.log(p) for p in proportions if p > 0)\n",
        "\n",
        "        # Add the node's diversity to the overall diversity index\n",
        "        diversity_index += node_diversity\n",
        "\n",
        "    return diversity_index"
      ],
      "metadata": {
        "id": "glmBmqDSUrK-"
      },
      "execution_count": null,
      "outputs": []
    },
    {
      "cell_type": "code",
      "source": [
        "def diversity (matrices):\n",
        "\n",
        "    div_values = []\n",
        "    for i in range(len(matrices)):\n",
        "      matrix = matrices[i]\n",
        "      G = nx.DiGraph(matrix)\n",
        "      diversity_index = shannon_diversity_index(G)\n",
        "\n",
        "      div_values.append(diversity_index)\n",
        "\n",
        "    return div_values"
      ],
      "metadata": {
        "id": "J_SxVyOgR0f5"
      },
      "execution_count": null,
      "outputs": []
    },
    {
      "cell_type": "code",
      "source": [
        "def calculate_correlations(original_values, modified_values):\n",
        "  p = []\n",
        "  sp = []\n",
        "  ktau = []\n",
        "  for i in range(len(original_values)):\n",
        "\n",
        "    # Calculate Pearson Correlation\n",
        "    p_correlation = np.corrcoef(original_values, modified_values)[0, 1]\n",
        "    p.append(p_correlation)\n",
        "\n",
        "    # Calculate Spearman correlation\n",
        "    sp_correlation, _ = spearmanr(original_values, modified_values)\n",
        "    sp.append(sp_correlation)\n",
        "\n",
        "    # Calculate Kendall Tau correlation\n",
        "    ktau_correlation, p_value = kendalltau(original_values, modified_values)\n",
        "    ktau.append(ktau_correlation)\n",
        "\n",
        "\n",
        "  # Calculate avg of correlations of all matrices\n",
        "  pearson_value = np.mean(p, axis=0)\n",
        "  spearman_value = np.mean(sp, axis=0)\n",
        "  ktau_value = np.mean(ktau, axis=0)\n",
        "\n",
        "  return pearson_value, spearman_value, ktau_value"
      ],
      "metadata": {
        "id": "yiTYj04ebbPk"
      },
      "execution_count": null,
      "outputs": []
    },
    {
      "cell_type": "markdown",
      "source": [
        "### Start calculations and save them to files"
      ],
      "metadata": {
        "id": "rBgWFAKu2EOI"
      }
    },
    {
      "cell_type": "code",
      "source": [
        "diversity_dict = {} # to store results in a dictionary\n",
        "\n",
        "for percent, loaded_data in loaded_data_dict.items():\n",
        "    diversity_dict[percent] = diversity(loaded_data)\n"
      ],
      "metadata": {
        "id": "hPsqqSO4YKi5"
      },
      "execution_count": null,
      "outputs": []
    },
    {
      "cell_type": "code",
      "source": [
        "# store results in an .npy file\n",
        "\n",
        "dict_values = list(diversity_dict.values())\n",
        "dict_array = np.array(dict_values)\n",
        "\n",
        "file_path = f'/content/drive/MyDrive/Colab_Notebooks/diversity/diversity_values_matrices_G{j}.npy'\n",
        "\n",
        "np.save(file_path, dict_array)"
      ],
      "metadata": {
        "id": "k0_HcExCNGDO"
      },
      "execution_count": null,
      "outputs": []
    },
    {
      "cell_type": "code",
      "source": [
        "pearson_values = [1]\n",
        "spearman_values = [1]\n",
        "ktau_values = [1]\n",
        "\n",
        "for i in range(10,110,10):\n",
        "  pearson_value, spearman_value, ktau_value = calculate_correlations(diversity_dict[0], diversity_dict[i])\n",
        "  pearson_values.append(pearson_value)\n",
        "  spearman_values.append(spearman_value)\n",
        "  ktau_values.append(ktau_value)\n"
      ],
      "metadata": {
        "id": "wClNXcjCvupj"
      },
      "execution_count": null,
      "outputs": []
    },
    {
      "cell_type": "code",
      "source": [
        "# Store correlation results to a json file for each G\n",
        "import json\n",
        "\n",
        "corr_dict = {}\n",
        "corr_dict['pearson_values'] = pearson_values\n",
        "corr_dict['spearman_values'] = spearman_values\n",
        "corr_dict['ktau_values'] = ktau_values\n",
        "\n",
        "\n",
        "\n",
        "# Define the file path for the new JSON file\n",
        "file_path = f'/content/drive/MyDrive/Colab_Notebooks/diversity/diversity_correlations_matrices_G{j}.json'\n",
        "\n",
        "# Serialize and save the dictionary to the new file\n",
        "with open(file_path, 'w') as json_file:\n",
        "    json.dump(corr_dict, json_file)\n",
        "\n",
        "print(f\"Results saved to {file_path}\")\n"
      ],
      "metadata": {
        "id": "Ct5BRBQgRBqF"
      },
      "execution_count": null,
      "outputs": []
    },
    {
      "cell_type": "code",
      "source": [
        "# Plot results\n",
        "modification_rates = [f\"{i}%\" for i in range(0,110,10)]\n",
        "\n",
        "plt.figure(figsize=(8, 6))\n",
        "\n",
        "plt.plot(modification_rates, pearson_values, marker='o', label= \"Pearson\")\n",
        "plt.plot(modification_rates, spearman_values, marker='o', label= \"Spearman\")\n",
        "plt.plot(modification_rates, ktau_values, marker='o', label= \"Kendall Tau\")\n",
        "\n",
        "plt.xlabel(\"Modification Percentage\")\n",
        "plt.ylabel(\"Correlation\")\n",
        "plt.title(\"Correlation of Diversity Index (Original vs Modified)\")\n",
        "plt.legend()\n",
        "plt.grid(True)\n",
        "plt.show()"
      ],
      "metadata": {
        "id": "fVW7xq50wpfe"
      },
      "execution_count": null,
      "outputs": []
    }
  ]
}