{
  "cells": [
    {
      "cell_type": "markdown",
      "metadata": {
        "id": "view-in-github",
        "colab_type": "text"
      },
      "source": [
        "<a href=\"https://colab.research.google.com/github/mariemtouihri/GRAM-Metric/blob/main/Weighted_degree.ipynb\" target=\"_parent\"><img src=\"https://colab.research.google.com/assets/colab-badge.svg\" alt=\"Open In Colab\"/></a>"
      ]
    },
    {
      "cell_type": "markdown",
      "metadata": {
        "id": "h6TSpYJDjiif"
      },
      "source": [
        "# 1 - Import libraries and data"
      ]
    },
    {
      "cell_type": "code",
      "execution_count": null,
      "metadata": {
        "id": "BS1aXzRKnkEa"
      },
      "outputs": [],
      "source": [
        "import numpy as np\n",
        "import networkx as nx\n",
        "from scipy.stats import spearmanr, kendalltau\n",
        "import matplotlib.pyplot as plt\n",
        "import community\n",
        "import json"
      ]
    },
    {
      "cell_type": "code",
      "execution_count": null,
      "metadata": {
        "id": "Ew7YPtr3I1k0"
      },
      "outputs": [],
      "source": [
        "from google.colab import drive\n",
        "drive.mount('/content/drive')"
      ]
    },
    {
      "cell_type": "code",
      "execution_count": null,
      "metadata": {
        "id": "U4OppnluhXs4"
      },
      "outputs": [],
      "source": [
        "\"\"\"\n",
        "  Load all matrices from my drive in a dictionary (There are 8 Groups of matrices,\n",
        "   each time we will work with a specific group in all cells and then repeat all\n",
        "    of it to the next group)\n",
        "\n",
        "\"\"\"\n",
        "\n",
        "# Read the adjacency matrix\n",
        "loaded_data_dict = {}\n",
        "noises = [i for i in range(0,110,10)]\n",
        "j=4 # To select G1 and so on\n",
        "for noise in noises:\n",
        "  file_path = f'/content/drive/MyDrive/Colab_Notebooks/Copy of Copie de matrices_noise_G{j}_{noise}%.npy'\n",
        "  loaded_data = np.load(file_path)\n",
        "  loaded_data_dict[noise] = loaded_data\n",
        "\n",
        "print(f\"Matrices G{j} are loaded successfully!\")"
      ]
    },
    {
      "cell_type": "markdown",
      "metadata": {
        "id": "_MJ90lstshJO"
      },
      "source": [
        "### Define needed functions"
      ]
    },
    {
      "cell_type": "code",
      "execution_count": null,
      "metadata": {
        "id": "M9xpLqzmee6D"
      },
      "outputs": [],
      "source": [
        "def w_degree (matrices):\n",
        "  w_in = []\n",
        "  w_out = []\n",
        "  for i in range(len(matrices)):\n",
        "\n",
        "    matrix = matrices[i]\n",
        "    G = nx.DiGraph(matrix)\n",
        "\n",
        "    weighted_in_degree_centrality = nx.in_degree_centrality(G)\n",
        "    w_in_degree_values = list(weighted_in_degree_centrality.values())\n",
        "\n",
        "    weighted_out_degree_centrality= nx.out_degree_centrality(G)\n",
        "    w_out_degree_values = list(weighted_out_degree_centrality.values())\n",
        "\n",
        "    w_in.extend(w_in_degree_values)\n",
        "    w_out.extend(w_out_degree_values)\n",
        "\n",
        "    w = [x + y for x, y in zip(w_in, w_out)]\n",
        "\n",
        "  return w"
      ]
    },
    {
      "cell_type": "code",
      "execution_count": null,
      "metadata": {
        "id": "yiTYj04ebbPk"
      },
      "outputs": [],
      "source": [
        "# This metric works on node level ! (it is different from metrics that work on graph level)\n",
        "def calculate_correlations(original_values, modified_values, j, x):\n",
        "\n",
        "  # Add noise to not get nan as correlation values\n",
        "  noise = np.random.uniform(0, 1e-10, len(original_values))\n",
        "  original_values += noise\n",
        "  noise = np.random.uniform(0, 1e-10, len(modified_values))\n",
        "  modified_values += noise\n",
        "\n",
        "  p = []\n",
        "  sp = []\n",
        "  ktau = []\n",
        "  corr_dict = {}\n",
        "  for i in range(0, len(original_values), 90):\n",
        "    # Calculate Pearson Correlation\n",
        "    p_correlation = np.corrcoef(original_values[i:i+90], modified_values[i:i+90])[0, 1]\n",
        "    p.append(p_correlation)\n",
        "\n",
        "    # Calculate Spearman correlation\n",
        "    sp_correlation, _ = spearmanr(original_values[i:i+90], modified_values[i:i+90])\n",
        "    sp.append(sp_correlation)\n",
        "\n",
        "    # Calculate Kendall Tau correlation\n",
        "    ktau_correlation, p_value = kendalltau(original_values[i:i+90], modified_values[i:i+90])\n",
        "    ktau.append(ktau_correlation)\n",
        "\n",
        "\n",
        "  # Store correlation results to a json file for each matrix\n",
        "  corr_dict['pearson_values'] = p\n",
        "  corr_dict['spearman_values'] = sp\n",
        "  corr_dict['ktau_values'] = ktau\n",
        "\n",
        "\n",
        "  # Define the file path for the new JSON file\n",
        "  file_path = f'/content/drive/MyDrive/Colab_Notebooks/w_degree/w_degree_all_correlations_matrices_G{j}_{x}%.json'\n",
        "\n",
        "  # Serialize and save the dictionary to the new file\n",
        "  with open(file_path, 'w') as json_file:\n",
        "      json.dump(corr_dict, json_file)\n",
        "\n",
        "  print(f\"Results saved to {file_path}\")\n",
        "\n",
        "\n",
        "\n",
        "\n",
        "  # Calculate avg of correlations of all matrices\n",
        "  pearson_value = np.mean(p, axis=0)\n",
        "  spearman_value = np.mean(sp, axis=0)\n",
        "  ktau_value = np.mean(ktau, axis=0)\n",
        "\n",
        "  return pearson_value, spearman_value, ktau_value"
      ]
    },
    {
      "cell_type": "markdown",
      "metadata": {
        "id": "fq44h0n_seg3"
      },
      "source": [
        "### Start calculations and save them to files\n"
      ]
    },
    {
      "cell_type": "code",
      "execution_count": null,
      "metadata": {
        "id": "hPsqqSO4YKi5"
      },
      "outputs": [],
      "source": [
        "\"\"\"\n",
        "  Load all matrices from my drive in a dictionary (There are 8 Groups of matrices,\n",
        "   each time we will work with a specific group in all cells and then repeat all\n",
        "    of it to the next group)\n",
        "\n",
        "\"\"\"\n",
        "\n",
        "# Read the adjacency matrix\n",
        "loaded_data_dict = {}\n",
        "noises = [i for i in range(0,110,10)]\n",
        " # To select G1 and so on\n",
        "for j in range(5,9,1):\n",
        "\n",
        "  for noise in noises:\n",
        "    file_path = f'/content/drive/MyDrive/Colab_Notebooks/Copy of Copie de matrices_noise_G{j}_{noise}%.npy'\n",
        "    loaded_data = np.load(file_path)\n",
        "    loaded_data_dict[noise] = loaded_data\n",
        "\n",
        "  print(f\"Matrices G{j} are loaded successfully!\")\n",
        "\n",
        "\n",
        "\n",
        "\n",
        "\n",
        "  w_degree_dict = {} # to store results in a dictionary\n",
        "\n",
        "  for percent, loaded_data in loaded_data_dict.items():\n",
        "      w_degree_dict[percent] = w_degree(loaded_data)\n",
        "\n",
        "\n",
        "  # store results in an .npy file\n",
        "\n",
        "  dict_values = list(w_degree_dict.values())\n",
        "  dict_array = np.array(dict_values)\n",
        "\n",
        "  file_path = f'/content/drive/MyDrive/Colab_Notebooks/w_degree/w_degree_values_matrices_G{j}.npy'\n",
        "\n",
        "  np.save(file_path, dict_array)\n",
        "  print(f\"Values G{j} are saved\")"
      ]
    },
    {
      "cell_type": "code",
      "execution_count": null,
      "metadata": {
        "id": "Ll7uZwr51St7"
      },
      "outputs": [],
      "source": [
        "j=1\n",
        "file_path = f'/content/drive/MyDrive/Colab_Notebooks/w_degree/w_degree_values_matrices_G{j}.npy'\n",
        "data = np.load(file_path)\n",
        "noises = [ i for i in range(0,110,10)]\n",
        "w_degree_dict= {}\n",
        "i=0\n",
        "for noise in noises:\n",
        "  w_degree_dict[noise] = data[i]\n",
        "  i+=1\n",
        "\n",
        "print(len(w_degree_dict))"
      ]
    },
    {
      "cell_type": "code",
      "source": [
        "noises = [ i for i in range(0,110,10)]\n",
        "\n",
        "for j in  range(1,9,1):\n",
        "  file_path = f'/content/drive/MyDrive/Colab_Notebooks/w_degree/w_degree_values_matrices_G{j}.npy'\n",
        "  data = np.load(file_path)\n",
        "  hub_auth_dict= {}\n",
        "  i=0\n",
        "  for noise in noises:\n",
        "      hub_auth_dict[noise] = data[i]\n",
        "      i+=1\n",
        "\n",
        "  print(len(hub_auth_dict))\n",
        "\n",
        "\n",
        "  pearson_values = [1]\n",
        "  spearman_values = [1]\n",
        "  ktau_values = [1]\n",
        "\n",
        "  for i in range(10,110,10):\n",
        "    pearson_value, spearman_value, ktau_value = calculate_correlations(hub_auth_dict[0], hub_auth_dict[i], j, i)\n",
        "    pearson_values.append(pearson_value)\n",
        "    spearman_values.append(spearman_value)\n",
        "    ktau_values.append(ktau_value)\n",
        "\n",
        "\n",
        "\n",
        "  # Store correlation results to a json file for each G\n",
        "\n",
        "  corr_dict = {}\n",
        "  corr_dict['pearson_values'] = pearson_values\n",
        "  corr_dict['spearman_values'] = spearman_values\n",
        "  corr_dict['ktau_values'] = ktau_values\n",
        "\n",
        "\n",
        "  # Define the file path for the new JSON file\n",
        "  file_path = f'/content/drive/MyDrive/Colab_Notebooks/w_degree/w_degree_correlations_matrices_G{j}.json'\n",
        "\n",
        "  # Serialize and save the dictionary to the new file\n",
        "  with open(file_path, 'w') as json_file:\n",
        "      json.dump(corr_dict, json_file)\n",
        "\n",
        "  print(f\"Results saved to {file_path}\")\n"
      ],
      "metadata": {
        "id": "Z3MHDkv0OmzL"
      },
      "execution_count": null,
      "outputs": []
    },
    {
      "cell_type": "code",
      "execution_count": null,
      "metadata": {
        "id": "ANHMVYekbkJf"
      },
      "outputs": [],
      "source": [
        "pearson_values = [1]\n",
        "spearman_values = [1]\n",
        "ktau_values = [1]\n",
        "\n",
        "for i in range(0,110,10):\n",
        "  pearson_value, spearman_value, ktau_value = calculate_correlations(w_degree_dict[0], w_degree_dict[i])\n",
        "  pearson_values.append(pearson_value)\n",
        "  spearman_values.append(spearman_value)\n",
        "  ktau_values.append(ktau_value)\n",
        "  # print(f\"for {i}% noise (Pearson value: {pearson_value}), (Spearman value: {spearman_value}), (Kendall-tau value: {ktau_value})\")\n",
        "\n",
        "\n",
        "\n",
        "# Store correlation results to a json file for each G\n",
        "\n",
        "corr_dict = {}\n",
        "corr_dict['pearson_values'] = pearson_values\n",
        "corr_dict['spearman_values'] = spearman_values\n",
        "corr_dict['ktau_values'] = ktau_values\n",
        "\n",
        "\n",
        "# Define the file path for the new JSON file\n",
        "file_path = f'/content/drive/MyDrive/Colab_Notebooks/w_degree/w_degree_correlations_matrices_G{j}.json'\n",
        "\n",
        "# Serialize and save the dictionary to the new file\n",
        "with open(file_path, 'w') as json_file:\n",
        "    json.dump(corr_dict, json_file)\n",
        "\n",
        "print(f\"Results saved to {file_path}\")\n",
        "\n"
      ]
    },
    {
      "cell_type": "code",
      "source": [
        "# read correlations from stored files G1, G2, ..\n",
        "\n",
        "pearson_values = []\n",
        "spearman_values = []\n",
        "ktau_values = []\n",
        "\n",
        "\n",
        "for j in range(8):\n",
        "\n",
        "  # Define the path to your JSON file\n",
        "  file_path = f'/content/drive/MyDrive/Colab_Notebooks/w_degree/w_degree_correlations_matrices_G{j+1}.json'\n",
        "\n",
        "  # Open and read the JSON file\n",
        "  with open(file_path, 'r') as json_file:\n",
        "      corr_dict = json.load(json_file)\n",
        "\n",
        "      if j== 0:\n",
        "        pearson_values.extend(corr_dict[\"pearson_values\"])\n",
        "        spearman_values.extend(corr_dict[\"spearman_values\"])\n",
        "        ktau_values.extend(corr_dict[\"ktau_values\"])\n",
        "      else:\n",
        "        pearson_values = np.vstack((pearson_values, corr_dict[\"pearson_values\"]))\n",
        "        spearman_values = np.vstack((spearman_values, corr_dict[\"spearman_values\"]))\n",
        "        ktau_values = np.vstack((ktau_values, corr_dict[\"ktau_values\"]))\n",
        "\n",
        "\n",
        "# Ready to be plotted (results from all matrices horray!)\n",
        "pearson_values = list(np.mean(pearson_values, axis=0))\n",
        "spearman_values = list(np.mean(spearman_values, axis=0))\n",
        "ktau_values = list(np.mean(ktau_values, axis=0))\n"
      ],
      "metadata": {
        "id": "n0iQJFE9B9a9"
      },
      "execution_count": null,
      "outputs": []
    },
    {
      "cell_type": "code",
      "source": [
        "# Store correlation results to a json file for each G\n",
        "corr_dict = {}\n",
        "corr_dict['pearson_values'] = pearson_values\n",
        "corr_dict['spearman_values'] = spearman_values\n",
        "corr_dict['ktau_values'] = ktau_values\n",
        "\n",
        "# Define the file path for the new JSON file\n",
        "file_path = f'/content/drive/MyDrive/Colab_Notebooks/w_degree/w_degree_correlations_all_matrices.json'\n",
        "\n",
        "# Serialize and save the dictionary to the new file\n",
        "with open(file_path, 'w') as json_file:\n",
        "    json.dump(corr_dict, json_file)\n",
        "\n",
        "print(f\"Results saved to {file_path}\")"
      ],
      "metadata": {
        "id": "BP8JldqZCuzr"
      },
      "execution_count": null,
      "outputs": []
    },
    {
      "cell_type": "code",
      "execution_count": null,
      "metadata": {
        "id": "0t0itTwM7eu2"
      },
      "outputs": [],
      "source": [
        "# Plot results\n",
        "modification_rates = [f\"{i}%\" for i in range(0,100,10)]\n",
        "plt.figure(figsize=(8, 6))\n",
        "\n",
        "plt.plot(modification_rates, pearson_values, marker='o', label= \"Pearson\")\n",
        "plt.plot(modification_rates, spearman_values, marker='o', label= \"Spearman\")\n",
        "plt.plot(modification_rates, ktau_values, marker='o', label= \"Kendall Tau\")\n",
        "\n",
        "plt.xlabel(\"Modification Percentage\")\n",
        "plt.ylabel(\"Correlation\")\n",
        "plt.title(\"Correlation of Weighted Degree Centrality (In-degree and Out_degree) (Original vs Modified)\")\n",
        "plt.legend()\n",
        "plt.grid(True)\n",
        "plt.show()"
      ]
    },
    {
      "cell_type": "code",
      "source": [
        "# Plot results\n",
        "modification_rates = [f\"{i}%\" for i in range(0,100,10)]\n",
        "plt.figure(figsize=(8, 6))\n",
        "\n",
        "plt.plot(modification_rates, pearson_values, marker='o', label= \"Pearson\")\n",
        "plt.plot(modification_rates, spearman_values, marker='o', label= \"Spearman\")\n",
        "plt.plot(modification_rates, ktau_values, marker='o', label= \"Kendall Tau\")\n",
        "\n",
        "plt.xlabel(\"Modification Percentage\")\n",
        "plt.ylabel(\"Correlation\")\n",
        "plt.title(\"Correlation of Weighted Degree Centrality (In-degree and Out_degree) (Original vs Modified)\")\n",
        "plt.legend()\n",
        "plt.grid(True)\n",
        "plt.show()"
      ],
      "metadata": {
        "id": "L4CW0KiFSyd7"
      },
      "execution_count": null,
      "outputs": []
    },
    {
      "cell_type": "code",
      "source": [
        "# read correlations from stored files G1, G2, ..\n",
        "\n",
        "pearson_values = []\n",
        "spearman_values = []\n",
        "ktau_values = []\n",
        "\n",
        "\n",
        "for j in range(8):\n",
        "\n",
        "  # Define the path to your JSON file\n",
        "  file_path = f'/content/drive/MyDrive/Colab_Notebooks/w_degree/w_degree_correlations_matrices_G{j+1}.json'\n",
        "\n",
        "  # Open and read the JSON file\n",
        "  with open(file_path, 'r') as json_file:\n",
        "      corr_dict = json.load(json_file)\n",
        "\n",
        "      if j== 0:\n",
        "        pearson_values.extend(corr_dict[\"pearson_values\"])\n",
        "        spearman_values.extend(corr_dict[\"spearman_values\"])\n",
        "        ktau_values.extend(corr_dict[\"ktau_values\"])\n",
        "      else:\n",
        "        pearson_values = np.vstack((pearson_values, corr_dict[\"pearson_values\"]))\n",
        "        spearman_values = np.vstack((spearman_values, corr_dict[\"spearman_values\"]))\n",
        "        ktau_values = np.vstack((ktau_values, corr_dict[\"ktau_values\"]))\n",
        "\n",
        "\n",
        "# Ready to be plotted (results from all matrices horray!)\n",
        "pearson_values = list(np.mean(pearson_values, axis=0))\n",
        "spearman_values = list(np.mean(spearman_values, axis=0))\n",
        "ktau_values = list(np.mean(ktau_values, axis=0))\n"
      ],
      "metadata": {
        "id": "pFs_NHYsNP4M"
      },
      "execution_count": null,
      "outputs": []
    },
    {
      "cell_type": "code",
      "source": [
        "# Plot results\n",
        "modification_rates = [f\"{i}%\" for i in range(0,110,10)]\n",
        "plt.figure(figsize=(8, 6))\n",
        "\n",
        "plt.plot(modification_rates, pearson_values, marker='o', label= \"Pearson\")\n",
        "plt.plot(modification_rates, spearman_values, marker='o', label= \"Spearman\")\n",
        "plt.plot(modification_rates, ktau_values, marker='o', label= \"Kendall Tau\")\n",
        "\n",
        "plt.xlabel(\"Modification Percentage\")\n",
        "plt.ylabel(\"Correlation\")\n",
        "plt.title(\"Correlation of Weighted Degree Centrality (In-degree and Out_degree) (Original vs Modified)\")\n",
        "plt.legend()\n",
        "plt.grid(True)\n",
        "plt.show()"
      ],
      "metadata": {
        "id": "tNySX_diNjv-"
      },
      "execution_count": null,
      "outputs": []
    }
  ],
  "metadata": {
    "colab": {
      "provenance": [],
      "mount_file_id": "1ZoSCzRasZ3SpsGdo_Vzmms1oNFVYDAJg",
      "authorship_tag": "ABX9TyOfzI4Jeaxqg2tMx+/D1DLe",
      "include_colab_link": true
    },
    "kernelspec": {
      "display_name": "Python 3",
      "name": "python3"
    },
    "language_info": {
      "name": "python"
    }
  },
  "nbformat": 4,
  "nbformat_minor": 0
}