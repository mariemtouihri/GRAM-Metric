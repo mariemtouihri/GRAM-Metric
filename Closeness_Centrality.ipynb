{
  "cells": [
    {
      "cell_type": "markdown",
      "metadata": {
        "id": "view-in-github",
        "colab_type": "text"
      },
      "source": [
        "<a href=\"https://colab.research.google.com/github/mariemtouihri/GRAM-Metric/blob/main/Closeness_Centrality.ipynb\" target=\"_parent\"><img src=\"https://colab.research.google.com/assets/colab-badge.svg\" alt=\"Open In Colab\"/></a>"
      ]
    },
    {
      "cell_type": "markdown",
      "metadata": {
        "id": "h6TSpYJDjiif"
      },
      "source": [
        "# 1 - Import libraries and data"
      ]
    },
    {
      "cell_type": "code",
      "execution_count": null,
      "metadata": {
        "id": "BS1aXzRKnkEa"
      },
      "outputs": [],
      "source": [
        "import numpy as np\n",
        "import networkx as nx\n",
        "from scipy.stats import spearmanr, kendalltau\n",
        "import matplotlib.pyplot as plt\n",
        "import json"
      ]
    },
    {
      "cell_type": "code",
      "execution_count": null,
      "metadata": {
        "colab": {
          "base_uri": "https://localhost:8080/"
        },
        "id": "A2JzNbyKrB1X",
        "outputId": "c4d103df-82c9-4064-ed31-f86fe92ed7d1"
      },
      "outputs": [
        {
          "output_type": "stream",
          "name": "stdout",
          "text": [
            "Mounted at /content/drive\n"
          ]
        }
      ],
      "source": [
        "from google.colab import drive\n",
        "drive.mount('/content/drive')"
      ]
    },
    {
      "cell_type": "code",
      "execution_count": null,
      "metadata": {
        "id": "U4OppnluhXs4"
      },
      "outputs": [],
      "source": [
        "\"\"\"\n",
        "  Load all matrices from my drive in a dictionary (There are 8 Groups of matrices,\n",
        "   each time we will work with a specific group in all cells and then repeat all\n",
        "    of it to the next group)\n",
        "\n",
        "\"\"\"\n",
        "\n",
        "# Read the adjacency matrix\n",
        "loaded_data_dict = {}\n",
        "noises = [i for i in range(11)]\n",
        "j=2 # To select G1 and so on ..\n",
        "for noise in noises:\n",
        "  noise *=10\n",
        "  file_path = f'/content/drive/MyDrive/Colab_Notebooks/Copie de matrices_noise_G{j}_{noise}%.npy'\n",
        "  loaded_data = np.load(file_path)\n",
        "  loaded_data_dict[noise] = loaded_data\n",
        "\n",
        "print(f\"Matrices G{j} are loaded !\")"
      ]
    },
    {
      "cell_type": "code",
      "execution_count": null,
      "metadata": {
        "colab": {
          "base_uri": "https://localhost:8080/"
        },
        "id": "QiH5WKkvIsPN",
        "outputId": "ec5da523-ceb5-4cbd-d60b-53099eeb9ba3"
      },
      "outputs": [
        {
          "data": {
            "text/plain": [
              "1100"
            ]
          },
          "execution_count": 4,
          "metadata": {},
          "output_type": "execute_result"
        }
      ],
      "source": [
        "len(loaded_data_dict[0])"
      ]
    },
    {
      "cell_type": "markdown",
      "metadata": {
        "id": "ZG1-gJS-6M4-"
      },
      "source": [
        "### Define needed functions"
      ]
    },
    {
      "cell_type": "code",
      "execution_count": null,
      "metadata": {
        "id": "J_SxVyOgR0f5"
      },
      "outputs": [],
      "source": [
        "def closeness (matrices):\n",
        "\n",
        "    closeness_values = []\n",
        "    for i in range(len(matrices)):\n",
        "      matrix = matrices[i]\n",
        "      G = nx.DiGraph(matrix)\n",
        "      closeness_v = nx.closeness_centrality(G, distance='weight')\n",
        "\n",
        "      closeness_list = list(closeness_v.values())\n",
        "      closeness_values.extend(closeness_list)\n",
        "\n",
        "    return closeness_values"
      ]
    },
    {
      "cell_type": "code",
      "execution_count": null,
      "metadata": {
        "id": "yiTYj04ebbPk"
      },
      "outputs": [],
      "source": [
        "# This metric works on node level ! (it is different from metrics that work on graph level)\n",
        "def calculate_correlations(original_values, modified_values, j, x):\n",
        "  p = []\n",
        "  sp = []\n",
        "  ktau = []\n",
        "  corr_dict = {}\n",
        "  for i in range(0, len(original_values), 90):\n",
        "    # Calculate Pearson Correlation\n",
        "    p_correlation = np.corrcoef(original_values[i:i+90], modified_values[i:i+90])[0, 1]\n",
        "    p.append(p_correlation)\n",
        "\n",
        "    # Calculate Spearman correlation\n",
        "    sp_correlation, _ = spearmanr(original_values[i:i+90], modified_values[i:i+90])\n",
        "    sp.append(sp_correlation)\n",
        "\n",
        "    # Calculate Kendall Tau correlation\n",
        "    ktau_correlation, p_value = kendalltau(original_values[i:i+90], modified_values[i:i+90])\n",
        "    ktau.append(ktau_correlation)\n",
        "\n",
        "\n",
        "  # Store correlation results to a json file for each matrix\n",
        "  corr_dict['pearson_values'] = p\n",
        "  corr_dict['spearman_values'] = sp\n",
        "  corr_dict['ktau_values'] = ktau\n",
        "\n",
        "\n",
        "  # Define the file path for the new JSON file\n",
        "  file_path = f'/content/drive/MyDrive/Colab_Notebooks/closeness/closeness_all_correlations_matrices_G{j}_{x}%.json'\n",
        "\n",
        "  # Serialize and save the dictionary to the new file\n",
        "  with open(file_path, 'w') as json_file:\n",
        "      json.dump(corr_dict, json_file)\n",
        "\n",
        "  print(f\"Results saved to {file_path}\")\n",
        "\n",
        "\n",
        "\n",
        "\n",
        "  # Calculate avg of correlations of all matrices\n",
        "  pearson_value = np.mean(p, axis=0)\n",
        "  spearman_value = np.mean(sp, axis=0)\n",
        "  ktau_value = np.mean(ktau, axis=0)\n",
        "\n",
        "  return pearson_value, spearman_value, ktau_value"
      ]
    },
    {
      "cell_type": "markdown",
      "metadata": {
        "id": "DiuUyVIy6urn"
      },
      "source": [
        "### Start calculations and save them to files\n"
      ]
    },
    {
      "cell_type": "code",
      "execution_count": null,
      "metadata": {
        "id": "hPsqqSO4YKi5"
      },
      "outputs": [],
      "source": [
        "loaded_data_dict = {}\n",
        "noises = [i for i in range(0,110,10)]\n",
        "\n",
        "# To select G1 and so on ..\n",
        "for j in range(1,8):\n",
        "\n",
        "  for noise in noises:\n",
        "    file_path = f'/content/drive/MyDrive/Colab_Notebooks/Copie de matrices_noise_G{j}_{noise}%.npy'\n",
        "    loaded_data = np.load(file_path)\n",
        "    loaded_data_dict[noise] = loaded_data\n",
        "\n",
        "  print(f\"Matrices G{j} are loaded !\")\n",
        "\n",
        "\n",
        "\n",
        "\n",
        "\n",
        "\n",
        "  closeness_dict = {} # to store results in a dictionary\n",
        "\n",
        "  for percent, loaded_data in loaded_data_dict.items():\n",
        "      closeness_dict[percent] = closeness(loaded_data)\n",
        "\n",
        "\n",
        "\n",
        "  # store results in an .npy file\n",
        "\n",
        "  dict_values = list(closeness_dict.values())\n",
        "  dict_array = np.array(dict_values)\n",
        "\n",
        "  file_path = f'/content/drive/MyDrive/Colab_Notebooks/closeness/closeness_values_matrices_G{j}.npy'\n",
        "\n",
        "  np.save(file_path, dict_array)\n",
        "  print(f\"Values G{j} are saved\")"
      ]
    },
    {
      "cell_type": "code",
      "source": [],
      "metadata": {
        "id": "iRycZvKKw3Dy"
      },
      "execution_count": null,
      "outputs": []
    },
    {
      "cell_type": "code",
      "source": [
        "j=1\n",
        "file_path = f'/content/drive/MyDrive/Colab_Notebooks/closeness/closeness_values_matrices_G{j}.npy'\n",
        "data = np.load(file_path)\n",
        "noises = [ i for i in range(0,110,10)]\n",
        "closeness_dict= {}\n",
        "i=0\n",
        "for noise in noises:\n",
        "\n",
        "    closeness_dict[noise] = data[i]\n",
        "    i+=1\n",
        "\n",
        "print(len(closeness_dict[0]))"
      ],
      "metadata": {
        "id": "Pzh8XuDVJ_xj"
      },
      "execution_count": null,
      "outputs": []
    },
    {
      "cell_type": "code",
      "source": [
        "noises = [ i for i in range(0,110,10)]\n",
        "\n",
        "for j in  range(1,9,1):\n",
        "  file_path = f'/content/drive/MyDrive/Colab_Notebooks/closeness/closeness_values_matrices_G{j}.npy'\n",
        "  data = np.load(file_path)\n",
        "  hub_auth_dict= {}\n",
        "  i=0\n",
        "  for noise in noises:\n",
        "      hub_auth_dict[noise] = data[i]\n",
        "      i+=1\n",
        "\n",
        "  print(len(hub_auth_dict))\n",
        "\n",
        "\n",
        "  pearson_values = [1]\n",
        "  spearman_values = [1]\n",
        "  ktau_values = [1]\n",
        "\n",
        "  for i in range(10,110,10):\n",
        "    pearson_value, spearman_value, ktau_value = calculate_correlations(hub_auth_dict[0], hub_auth_dict[i], j, i)\n",
        "    pearson_values.append(pearson_value)\n",
        "    spearman_values.append(spearman_value)\n",
        "    ktau_values.append(ktau_value)\n",
        "\n",
        "\n",
        "\n",
        "  # Store correlation results to a json file for each G\n",
        "\n",
        "  corr_dict = {}\n",
        "  corr_dict['pearson_values'] = pearson_values\n",
        "  corr_dict['spearman_values'] = spearman_values\n",
        "  corr_dict['ktau_values'] = ktau_values\n",
        "\n",
        "\n",
        "  # Define the file path for the new JSON file\n",
        "  file_path = f'/content/drive/MyDrive/Colab_Notebooks/closeness/closeness_correlations_matrices_G{j}.json'\n",
        "\n",
        "  # Serialize and save the dictionary to the new file\n",
        "  with open(file_path, 'w') as json_file:\n",
        "      json.dump(corr_dict, json_file)\n",
        "\n",
        "  print(f\"Results saved to {file_path}\")\n"
      ],
      "metadata": {
        "id": "3_vyd7Q5QI3J"
      },
      "execution_count": null,
      "outputs": []
    },
    {
      "cell_type": "code",
      "source": [
        "pearson_values = [1]\n",
        "spearman_values = [1]\n",
        "ktau_values = [1]\n",
        "\n",
        "for i in range(10,110,10):\n",
        "  pearson_value, spearman_value, ktau_value = calculate_correlations(closeness_dict[0], closeness_dict[i], j, i)\n",
        "  pearson_values.append(pearson_value)\n",
        "  spearman_values.append(spearman_value)\n",
        "  ktau_values.append(ktau_value)\n",
        "\n",
        "\n",
        "\n",
        "# Store correlation results to a json file for each G\n",
        "\n",
        "corr_dict = {}\n",
        "corr_dict['pearson_values'] = pearson_values\n",
        "corr_dict['spearman_values'] = spearman_values\n",
        "corr_dict['ktau_values'] = ktau_values\n",
        "\n",
        "\n",
        "# Define the file path for the new JSON file\n",
        "file_path = f'/content/drive/MyDrive/Colab_Notebooks/closeness/closeness_correlations_matrices_G{j}.json'\n",
        "\n",
        "# Serialize and save the dictionary to the new file\n",
        "with open(file_path, 'w') as json_file:\n",
        "    json.dump(corr_dict, json_file)\n",
        "\n",
        "print(f\"Results saved to {file_path}\")"
      ],
      "metadata": {
        "id": "WvdNtKjKHUed"
      },
      "execution_count": null,
      "outputs": []
    },
    {
      "cell_type": "code",
      "execution_count": null,
      "metadata": {
        "colab": {
          "base_uri": "https://localhost:8080/"
        },
        "id": "s7Gna00WrZqX",
        "outputId": "b2fa6c40-f659-44ff-bf37-1c1520c9f144"
      },
      "outputs": [
        {
          "output_type": "stream",
          "name": "stdout",
          "text": [
            "11\n"
          ]
        }
      ],
      "source": [
        "j=5\n",
        "file_path = f'/content/drive/MyDrive/Colab_Notebooks/closeness/closeness_values_matrices_G{j}.npy'\n",
        "data = np.load(file_path)\n",
        "noises = [ i for i in range(0,110,10)]\n",
        "closeness_dict= {}\n",
        "i=0\n",
        "for noise in noises:\n",
        "\n",
        "    closeness_dict[noise] = data[i]\n",
        "    i+=1\n",
        "\n",
        "print(len(closeness_dict))"
      ]
    },
    {
      "cell_type": "code",
      "execution_count": null,
      "metadata": {
        "id": "fVW7xq50wpfe"
      },
      "outputs": [],
      "source": [
        "# Plot results\n",
        "modification_rates = [f\"{i}%\" for i in range(0,110,10)]\n",
        "\n",
        "plt.figure(figsize=(8, 6))\n",
        "\n",
        "plt.plot(modification_rates, pearson_values, marker='o', label= \"Pearson\")\n",
        "plt.plot(modification_rates, spearman_values, marker='o', label= \"Spearman\")\n",
        "plt.plot(modification_rates, ktau_values, marker='o', label= \"Kendall Tau\")\n",
        "\n",
        "plt.xlabel(\"Modification Percentage\")\n",
        "plt.ylabel(\"Correlation\")\n",
        "plt.title(\"Correlation of Closeness Centrality (Original vs Modified)\")\n",
        "plt.legend()\n",
        "plt.grid(True)\n",
        "plt.show()"
      ]
    }
  ],
  "metadata": {
    "colab": {
      "provenance": [],
      "include_colab_link": true
    },
    "kernelspec": {
      "display_name": "Python 3",
      "name": "python3"
    },
    "language_info": {
      "name": "python"
    }
  },
  "nbformat": 4,
  "nbformat_minor": 0
}